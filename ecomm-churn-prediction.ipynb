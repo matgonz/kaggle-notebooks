{
 "cells": [
  {
   "cell_type": "markdown",
   "id": "9a6fa769",
   "metadata": {
    "_cell_guid": "b1076dfc-b9ad-4769-8c92-a6c4dae69d19",
    "_uuid": "8f2839f25d086af736a60e9eeb907d3b93b6e0e5",
    "execution": {
     "iopub.execute_input": "2022-05-30T20:01:34.039989Z",
     "iopub.status.busy": "2022-05-30T20:01:34.039494Z",
     "iopub.status.idle": "2022-05-30T20:01:34.049911Z",
     "shell.execute_reply": "2022-05-30T20:01:34.048724Z",
     "shell.execute_reply.started": "2022-05-30T20:01:34.039954Z"
    },
    "papermill": {
     "duration": 0.004159,
     "end_time": "2022-05-30T20:40:04.699870",
     "exception": false,
     "start_time": "2022-05-30T20:40:04.695711",
     "status": "completed"
    },
    "tags": []
   },
   "source": [
    "# 1. About Dataset\n",
    "\n",
    "The data set belongs to a leading online E-Commerce company. An online retail (E-commerce) company wants to know the customers who are going to churn, so accordingly they can approach customer to offer some promos.\n",
    "\n",
    "- **CustomerID**: Unique customer ID\n",
    "- **Churn**: Churn Flag\n",
    "- **Tenure**: Tenure of customer in organization\n",
    "- **PreferredLoginDevice**: Preferred login device of customer\n",
    "- **CityTier**: City tier\n",
    "- **WarehouseToHome**: Distance in between warehouse to home of customer\n",
    "- **PreferredPaymentMode**: Preferred payment method of customer\n",
    "- **Gender**: Gender of customer\n",
    "- **HourSpendOnApp**: Number of hours spend on mobile application or website\n",
    "- **NumberOfDeviceRegistered**: Total number of deceives is registered on particular customer\n",
    "- **PreferedOrderCat**: Preferred order category of customer in last month\n",
    "- **SatisfactionScore**: Satisfactory score of customer on service\n",
    "- **MaritalStatus**: Marital status of customer\n",
    "- **NumberOfAddress**: Total number of added added on particular customer\n",
    "- **Complain**: Any complaint has been raised in last month\n",
    "- **OrderAmountHikeFromlastYear**: Percentage increases in order from last year\n",
    "- **CouponUsed**: Total number of coupon has been used in last month\n",
    "- **OrderCount**: Total number of orders has been places in last month\n",
    "- **DaySinceLastOrder**: Day Since last order by customer\n",
    "- **CashbackAmount**: Average cashback in last month"
   ]
  },
  {
   "cell_type": "markdown",
   "id": "c3ca5860",
   "metadata": {
    "papermill": {
     "duration": 0.002375,
     "end_time": "2022-05-30T20:40:04.707645",
     "exception": false,
     "start_time": "2022-05-30T20:40:04.705270",
     "status": "completed"
    },
    "tags": []
   },
   "source": [
    "# 2. Libraries"
   ]
  },
  {
   "cell_type": "code",
   "execution_count": 1,
   "id": "706aa25f",
   "metadata": {
    "execution": {
     "iopub.execute_input": "2022-05-30T20:40:04.714701Z",
     "iopub.status.busy": "2022-05-30T20:40:04.714257Z",
     "iopub.status.idle": "2022-05-30T20:40:17.152463Z",
     "shell.execute_reply": "2022-05-30T20:40:17.151312Z"
    },
    "papermill": {
     "duration": 12.445139,
     "end_time": "2022-05-30T20:40:17.155470",
     "exception": false,
     "start_time": "2022-05-30T20:40:04.710331",
     "status": "completed"
    },
    "tags": []
   },
   "outputs": [
    {
     "name": "stdout",
     "output_type": "stream",
     "text": [
      "Collecting openpyxl\r\n",
      "  Downloading openpyxl-3.0.10-py2.py3-none-any.whl (242 kB)\r\n",
      "\u001b[2K     \u001b[90m━━━━━━━━━━━━━━━━━━━━━━━━━━━━━━━━━━━━━━━\u001b[0m \u001b[32m242.1/242.1 kB\u001b[0m \u001b[31m1.1 MB/s\u001b[0m eta \u001b[36m0:00:00\u001b[0m\r\n",
      "\u001b[?25hCollecting et-xmlfile\r\n",
      "  Downloading et_xmlfile-1.1.0-py3-none-any.whl (4.7 kB)\r\n",
      "Installing collected packages: et-xmlfile, openpyxl\r\n",
      "Successfully installed et-xmlfile-1.1.0 openpyxl-3.0.10\r\n",
      "\u001b[33mWARNING: Running pip as the 'root' user can result in broken permissions and conflicting behaviour with the system package manager. It is recommended to use a virtual environment instead: https://pip.pypa.io/warnings/venv\u001b[0m\u001b[33m\r\n",
      "\u001b[0m"
     ]
    }
   ],
   "source": [
    "!pip3 install openpyxl"
   ]
  },
  {
   "cell_type": "code",
   "execution_count": 2,
   "id": "c0979454",
   "metadata": {
    "execution": {
     "iopub.execute_input": "2022-05-30T20:40:17.163976Z",
     "iopub.status.busy": "2022-05-30T20:40:17.163570Z",
     "iopub.status.idle": "2022-05-30T20:40:17.168137Z",
     "shell.execute_reply": "2022-05-30T20:40:17.167179Z"
    },
    "papermill": {
     "duration": 0.011161,
     "end_time": "2022-05-30T20:40:17.170196",
     "exception": false,
     "start_time": "2022-05-30T20:40:17.159035",
     "status": "completed"
    },
    "tags": []
   },
   "outputs": [],
   "source": [
    "import os\n",
    "import pandas as pd "
   ]
  },
  {
   "cell_type": "markdown",
   "id": "d0dcd6e0",
   "metadata": {
    "papermill": {
     "duration": 0.002962,
     "end_time": "2022-05-30T20:40:17.176357",
     "exception": false,
     "start_time": "2022-05-30T20:40:17.173395",
     "status": "completed"
    },
    "tags": []
   },
   "source": [
    "# 3. Reading the Data"
   ]
  },
  {
   "cell_type": "code",
   "execution_count": 3,
   "id": "f80cfaa9",
   "metadata": {
    "execution": {
     "iopub.execute_input": "2022-05-30T20:40:17.184168Z",
     "iopub.status.busy": "2022-05-30T20:40:17.183553Z",
     "iopub.status.idle": "2022-05-30T20:40:18.833288Z",
     "shell.execute_reply": "2022-05-30T20:40:18.832289Z"
    },
    "papermill": {
     "duration": 1.656155,
     "end_time": "2022-05-30T20:40:18.835612",
     "exception": false,
     "start_time": "2022-05-30T20:40:17.179457",
     "status": "completed"
    },
    "tags": []
   },
   "outputs": [],
   "source": [
    "path = '/kaggle/input/ecommerce-customer-churn-analysis-and-prediction/E Commerce Dataset.xlsx'\n",
    "df_raw = pd.read_excel(path, sheet_name='E Comm')"
   ]
  },
  {
   "cell_type": "code",
   "execution_count": null,
   "id": "82d53dc3",
   "metadata": {
    "execution": {
     "iopub.execute_input": "2022-05-30T20:29:08.787863Z",
     "iopub.status.busy": "2022-05-30T20:29:08.786878Z",
     "iopub.status.idle": "2022-05-30T20:29:10.875721Z",
     "shell.execute_reply": "2022-05-30T20:29:10.874497Z",
     "shell.execute_reply.started": "2022-05-30T20:29:08.787819Z"
    },
    "papermill": {
     "duration": 0.002836,
     "end_time": "2022-05-30T20:40:18.841847",
     "exception": false,
     "start_time": "2022-05-30T20:40:18.839011",
     "status": "completed"
    },
    "tags": []
   },
   "outputs": [],
   "source": []
  },
  {
   "cell_type": "code",
   "execution_count": null,
   "id": "267d0d7a",
   "metadata": {
    "papermill": {
     "duration": 0.002766,
     "end_time": "2022-05-30T20:40:18.847862",
     "exception": false,
     "start_time": "2022-05-30T20:40:18.845096",
     "status": "completed"
    },
    "tags": []
   },
   "outputs": [],
   "source": []
  },
  {
   "cell_type": "code",
   "execution_count": 4,
   "id": "a7eaac65",
   "metadata": {
    "execution": {
     "iopub.execute_input": "2022-05-30T20:40:18.855746Z",
     "iopub.status.busy": "2022-05-30T20:40:18.855412Z",
     "iopub.status.idle": "2022-05-30T20:40:18.858996Z",
     "shell.execute_reply": "2022-05-30T20:40:18.858136Z"
    },
    "papermill": {
     "duration": 0.010022,
     "end_time": "2022-05-30T20:40:18.860985",
     "exception": false,
     "start_time": "2022-05-30T20:40:18.850963",
     "status": "completed"
    },
    "tags": []
   },
   "outputs": [],
   "source": [
    "# Input data files are available in the read-only \"../input/\" directory\n",
    "# For example, running this (by clicking run or pressing Shift+Enter) will list all files under the input directory\n",
    "\n",
    "# You can write up to 20GB to the current directory (/kaggle/working/) that gets preserved as output when you create a version using \"Save & Run All\" \n",
    "# You can also write temporary files to /kaggle/temp/, but they won't be saved outside of the current session"
   ]
  },
  {
   "cell_type": "code",
   "execution_count": null,
   "id": "8518623f",
   "metadata": {
    "papermill": {
     "duration": 0.00312,
     "end_time": "2022-05-30T20:40:18.867508",
     "exception": false,
     "start_time": "2022-05-30T20:40:18.864388",
     "status": "completed"
    },
    "tags": []
   },
   "outputs": [],
   "source": []
  }
 ],
 "metadata": {
  "kernelspec": {
   "display_name": "Python 3",
   "language": "python",
   "name": "python3"
  },
  "language_info": {
   "codemirror_mode": {
    "name": "ipython",
    "version": 3
   },
   "file_extension": ".py",
   "mimetype": "text/x-python",
   "name": "python",
   "nbconvert_exporter": "python",
   "pygments_lexer": "ipython3",
   "version": "3.7.12"
  },
  "papermill": {
   "default_parameters": {},
   "duration": 24.407879,
   "end_time": "2022-05-30T20:40:19.592820",
   "environment_variables": {},
   "exception": null,
   "input_path": "__notebook__.ipynb",
   "output_path": "__notebook__.ipynb",
   "parameters": {},
   "start_time": "2022-05-30T20:39:55.184941",
   "version": "2.3.4"
  }
 },
 "nbformat": 4,
 "nbformat_minor": 5
}
